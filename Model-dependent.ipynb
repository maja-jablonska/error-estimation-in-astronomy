{
 "cells": [
  {
   "cell_type": "code",
   "execution_count": 4,
   "metadata": {
    "ExecuteTime": {
     "end_time": "2022-01-10T18:04:23.728961Z",
     "start_time": "2022-01-10T18:04:23.215191Z"
    }
   },
   "outputs": [],
   "source": [
    "import numpy as np\n",
    "import matplotlib.pyplot as plt"
   ]
  },
  {
   "cell_type": "code",
   "execution_count": 5,
   "metadata": {
    "ExecuteTime": {
     "end_time": "2022-01-10T18:04:23.744031Z",
     "start_time": "2022-01-10T18:04:23.733797Z"
    }
   },
   "outputs": [],
   "source": [
    "data = np.array([7., 10., 11., 10., 8., 14., 12., 9., 12., 13.,\n",
    "        10., 11., 12., 11., 13., 9., 10., 12., 11.,\n",
    "        7., 7., 12., 10., 6., 8., 11., 9., 9., 9., 9.])"
   ]
  },
  {
   "cell_type": "code",
   "execution_count": 6,
   "metadata": {
    "ExecuteTime": {
     "end_time": "2022-01-10T18:04:23.761295Z",
     "start_time": "2022-01-10T18:04:23.747444Z"
    }
   },
   "outputs": [],
   "source": [
    "errors = np.array([3.18, 3.45, 2.92, 3.14, 3.43, 2.85, 3.18,\n",
    "         3.14, 3.12, 3.03, 3.12, 3.07, 3.08, 3.41,\n",
    "         3.32, 3.44, 3.31, 3.21, 2.87, 3.07, 2.89,\n",
    "         3.06, 2.93, 2.90, 3.32, 2.99, 3.08, 3.18,\n",
    "         3.40, 3.01])"
   ]
  },
  {
   "cell_type": "code",
   "execution_count": 7,
   "metadata": {
    "ExecuteTime": {
     "end_time": "2022-01-10T18:04:23.776454Z",
     "start_time": "2022-01-10T18:04:23.766549Z"
    }
   },
   "outputs": [],
   "source": [
    "def gaussian_log_likelihood(data, errors, params):\n",
    "    g_mean = params[0]\n",
    "    return np.longdouble(-0.5*np.sum(np.power((data-g_mean)/errors, 2)))"
   ]
  },
  {
   "cell_type": "code",
   "execution_count": 8,
   "metadata": {
    "ExecuteTime": {
     "end_time": "2022-01-10T18:04:23.802583Z",
     "start_time": "2022-01-10T18:04:23.781906Z"
    }
   },
   "outputs": [],
   "source": [
    "means = np.linspace(0, 20, 100)\n",
    "likelihoods = np.exp([gaussian_log_likelihood(data, errors, [p]) for p in means])"
   ]
  },
  {
   "cell_type": "code",
   "execution_count": 9,
   "metadata": {
    "ExecuteTime": {
     "end_time": "2022-01-10T18:04:24.031875Z",
     "start_time": "2022-01-10T18:04:23.807811Z"
    }
   },
   "outputs": [
    {
     "data": {
      "text/plain": [
       "-46.054485234637027702"
      ]
     },
     "execution_count": 9,
     "metadata": {},
     "output_type": "execute_result"
    }
   ],
   "source": [
    "gaussian_log_likelihood(data, errors, [5.])"
   ]
  },
  {
   "cell_type": "code",
   "execution_count": 10,
   "metadata": {
    "ExecuteTime": {
     "end_time": "2022-01-10T18:04:24.417980Z",
     "start_time": "2022-01-10T18:04:24.037925Z"
    }
   },
   "outputs": [
    {
     "data": {
      "image/png": "[encoded data removed]",
      "text/plain": [
       "<Figure size 432x288 with 1 Axes>"
      ]
     },
     "metadata": {
      "needs_background": "light"
     },
     "output_type": "display_data"
    }
   ],
   "source": [
    "plt.plot(means, likelihoods)\n",
    "plt.grid(linestyle='--')"
   ]
  },
  {
   "cell_type": "markdown",
   "metadata": {},
   "source": [
    "### Analytic parameter"
   ]
  },
  {
   "cell_type": "code",
   "execution_count": 11,
   "metadata": {
    "ExecuteTime": {
     "end_time": "2022-01-10T18:04:24.434117Z",
     "start_time": "2022-01-10T18:04:24.424673Z"
    }
   },
   "outputs": [
    {
     "data": {
      "text/plain": [
       "10.086872187189902"
      ]
     },
     "execution_count": 11,
     "metadata": {},
     "output_type": "execute_result"
    }
   ],
   "source": [
    "errors2 = np.power(errors, 2)\n",
    "uhat = np.sum(data/errors2)/np.sum(1/errors2)\n",
    "uhat"
   ]
  },
  {
   "cell_type": "markdown",
   "metadata": {},
   "source": [
    "## Brute-force grids"
   ]
  },
  {
   "cell_type": "markdown",
   "metadata": {},
   "source": [
    "Actually this is done when plotting. The numpy linspace is the grid and the likelihoods are evaluations at each parameter."
   ]
  },
  {
   "cell_type": "code",
   "execution_count": 12,
   "metadata": {
    "ExecuteTime": {
     "end_time": "2022-01-10T18:04:24.445562Z",
     "start_time": "2022-01-10T18:04:24.439219Z"
    },
    "scrolled": true
   },
   "outputs": [],
   "source": [
    "def normal_stddev(means, likelihoods):\n",
    "    m = means.dot(likelihoods)\n",
    "    mom2 = np.power(means, 2).dot(likelihoods)\n",
    "    variance = mom2 - np.power(m, 2)\n",
    "    return np.sqrt(variance)"
   ]
  },
  {
   "cell_type": "code",
   "execution_count": 13,
   "metadata": {
    "ExecuteTime": {
     "end_time": "2022-01-10T18:04:24.462846Z",
     "start_time": "2022-01-10T18:04:24.449533Z"
    }
   },
   "outputs": [
    {
     "data": {
      "text/plain": [
       "0.5942454406497251285"
      ]
     },
     "execution_count": 13,
     "metadata": {},
     "output_type": "execute_result"
    }
   ],
   "source": [
    "normal_stddev(means, likelihoods)/2"
   ]
  },
  {
   "cell_type": "markdown",
   "metadata": {},
   "source": [
    "## Varying $\\chi^2$"
   ]
  },
  {
   "cell_type": "code",
   "execution_count": 14,
   "metadata": {
    "ExecuteTime": {
     "end_time": "2022-01-10T18:04:24.475844Z",
     "start_time": "2022-01-10T18:04:24.467496Z"
    }
   },
   "outputs": [],
   "source": [
    "def chisq(data, errors, params):\n",
    "    g_mean = params[0]\n",
    "    return np.sum(np.power((data-g_mean)/errors, 2))"
   ]
  },
  {
   "cell_type": "code",
   "execution_count": 15,
   "metadata": {
    "ExecuteTime": {
     "end_time": "2022-01-10T18:04:24.492840Z",
     "start_time": "2022-01-10T18:04:24.480056Z"
    }
   },
   "outputs": [],
   "source": [
    "chisq_values = [chisq(data, errors, [p]) for p in means]"
   ]
  },
  {
   "cell_type": "code",
   "execution_count": 16,
   "metadata": {
    "ExecuteTime": {
     "end_time": "2022-01-10T18:04:24.817066Z",
     "start_time": "2022-01-10T18:04:24.496858Z"
    },
    "scrolled": true
   },
   "outputs": [
    {
     "data": {
      "image/png": "[encoded data removed]",
      "text/plain": [
       "<Figure size 432x288 with 1 Axes>"
      ]
     },
     "metadata": {
      "needs_background": "light"
     },
     "output_type": "display_data"
    }
   ],
   "source": [
    "plt.plot(means, chisq_values)\n",
    "plt.grid(linestyle='--')"
   ]
  },
  {
   "cell_type": "code",
   "execution_count": 17,
   "metadata": {
    "ExecuteTime": {
     "end_time": "2022-01-10T18:04:24.830555Z",
     "start_time": "2022-01-10T18:04:24.821764Z"
    }
   },
   "outputs": [
    {
     "data": {
      "text/plain": [
       "12.445169112634476"
      ]
     },
     "execution_count": 17,
     "metadata": {},
     "output_type": "execute_result"
    }
   ],
   "source": [
    "min_chisq = np.min(chisq_values)\n",
    "min_chisq"
   ]
  },
  {
   "cell_type": "code",
   "execution_count": 18,
   "metadata": {
    "ExecuteTime": {
     "end_time": "2022-01-10T18:04:25.045642Z",
     "start_time": "2022-01-10T18:04:24.836000Z"
    }
   },
   "outputs": [],
   "source": [
    "from scipy.optimize import fsolve, fmin"
   ]
  },
  {
   "cell_type": "code",
   "execution_count": 19,
   "metadata": {
    "ExecuteTime": {
     "end_time": "2022-01-10T18:04:25.088711Z",
     "start_time": "2022-01-10T18:04:25.050099Z"
    }
   },
   "outputs": [
    {
     "name": "stdout",
     "output_type": "stream",
     "text": [
      "Optimization terminated successfully.\n",
      "         Current function value: 12.444554\n",
      "         Iterations: 14\n",
      "         Function evaluations: 28\n"
     ]
    },
    {
     "data": {
      "text/plain": [
       "10.08685302734375"
      ]
     },
     "execution_count": 19,
     "metadata": {},
     "output_type": "execute_result"
    }
   ],
   "source": [
    "minhat = fmin(lambda x: chisq(data, errors, [x]), [10.])[0]\n",
    "minhat"
   ]
  },
  {
   "cell_type": "code",
   "execution_count": 20,
   "metadata": {
    "ExecuteTime": {
     "end_time": "2022-01-10T18:04:25.111802Z",
     "start_time": "2022-01-10T18:04:25.094235Z"
    }
   },
   "outputs": [
    {
     "name": "stdout",
     "output_type": "stream",
     "text": [
      "Optimization terminated successfully.\n",
      "         Current function value: 0.000093\n",
      "         Iterations: 14\n",
      "         Function evaluations: 28\n"
     ]
    },
    {
     "data": {
      "text/plain": [
       "10.656947381794453"
      ]
     },
     "execution_count": 20,
     "metadata": {},
     "output_type": "execute_result"
    }
   ],
   "source": [
    "min_1_hat = fmin(lambda x: np.abs(\n",
    "    chisq(data, errors, [x])-(min_chisq+1)),\n",
    "                 [minhat])[0]\n",
    "min_1_hat"
   ]
  },
  {
   "cell_type": "code",
   "execution_count": 21,
   "metadata": {
    "ExecuteTime": {
     "end_time": "2022-01-10T18:04:25.125770Z",
     "start_time": "2022-01-10T18:04:25.116386Z"
    }
   },
   "outputs": [
    {
     "data": {
      "text/plain": [
       "13.445169112634476"
      ]
     },
     "execution_count": 21,
     "metadata": {},
     "output_type": "execute_result"
    }
   ],
   "source": [
    "min_chisq+1"
   ]
  },
  {
   "cell_type": "code",
   "execution_count": 22,
   "metadata": {
    "ExecuteTime": {
     "end_time": "2022-01-10T18:04:25.140514Z",
     "start_time": "2022-01-10T18:04:25.128449Z"
    }
   },
   "outputs": [
    {
     "data": {
      "text/plain": [
       "0.5700943544507027"
      ]
     },
     "execution_count": 22,
     "metadata": {},
     "output_type": "execute_result"
    }
   ],
   "source": [
    "np.abs(min_1_hat-minhat)"
   ]
  },
  {
   "cell_type": "code",
   "execution_count": 23,
   "metadata": {
    "ExecuteTime": {
     "end_time": "2022-01-10T18:04:25.516135Z",
     "start_time": "2022-01-10T18:04:25.143377Z"
    }
   },
   "outputs": [
    {
     "data": {
      "text/plain": [
       "<matplotlib.collections.LineCollection at 0x7fbb7c6acc10>"
      ]
     },
     "execution_count": 23,
     "metadata": {},
     "output_type": "execute_result"
    },
    {
     "data": {
      "image/png": "[encoded data removed]",
      "text/plain": [
       "<Figure size 432x288 with 1 Axes>"
      ]
     },
     "metadata": {
      "needs_background": "light"
     },
     "output_type": "display_data"
    }
   ],
   "source": [
    "plt.plot(means, chisq_values)\n",
    "plt.grid(linestyle='--')\n",
    "plt.ylim(10, 30)\n",
    "plt.xlim(8, 12)\n",
    "plt.hlines(np.min(chisq_values), 0, 20, color='red', linestyles='--')\n",
    "plt.hlines(np.min(chisq_values)+1, 0, 20, color='red', linestyles='--')"
   ]
  },
  {
   "cell_type": "markdown",
   "metadata": {},
   "source": [
    "## Fisher matrix"
   ]
  },
  {
   "cell_type": "markdown",
   "metadata": {},
   "source": [
    "$\\frac{d^2 log\\mathcal{L}(D;\\mu)}{d\\mu^2}=\\sum_{n=1}^N\\frac{1}{\\sigma_n^2}$\n",
    "\n",
    "$\\hat{\\sigma}_\\mu^2=\\Bigg(\\sum_{n=1}^N\\frac{1}{\\sigma_n^2}\\Bigg)^{-1}$"
   ]
  },
  {
   "cell_type": "code",
   "execution_count": 24,
   "metadata": {
    "ExecuteTime": {
     "end_time": "2022-01-10T18:04:25.528927Z",
     "start_time": "2022-01-10T18:04:25.521568Z"
    }
   },
   "outputs": [],
   "source": [
    "def fisher_matrix_for_gaussian(errors):\n",
    "    return np.sum(1/np.power(errors, 2))"
   ]
  },
  {
   "cell_type": "code",
   "execution_count": 25,
   "metadata": {
    "ExecuteTime": {
     "end_time": "2022-01-10T18:04:25.546517Z",
     "start_time": "2022-01-10T18:04:25.534383Z"
    }
   },
   "outputs": [
    {
     "data": {
      "text/plain": [
       "0.5699262170527927"
      ]
     },
     "execution_count": 25,
     "metadata": {},
     "output_type": "execute_result"
    }
   ],
   "source": [
    "np.sqrt(1/fisher_matrix_for_gaussian(errors))"
   ]
  },
  {
   "cell_type": "markdown",
   "metadata": {},
   "source": [
    "## MCMC"
   ]
  },
  {
   "cell_type": "code",
   "execution_count": 27,
   "metadata": {
    "ExecuteTime": {
     "end_time": "2022-01-10T18:05:55.412650Z",
     "start_time": "2022-01-10T18:05:55.405954Z"
    }
   },
   "outputs": [],
   "source": [
    "def metropolis_hastings(steps, stddev, start_guess):\n",
    "    points = []\n",
    "    \n",
    "    current_point = start_guess\n",
    "    current_likelihood = gaussian_log_likelihood(data, errors, [current_point])\n",
    "    \n",
    "    for i in range(steps):\n",
    "        points.append(current_point)\n",
    "        \n",
    "        proposed_point = np.random.normal(loc=current_point, scale=stddev)\n",
    "        proposed_likelihood = gaussian_log_likelihood(data, errors, [proposed_point])\n",
    "        \n",
    "        if proposed_likelihood>current_likelihood:\n",
    "            current_point = proposed_point\n",
    "            current_likelihood = proposed_likelihood\n",
    "        else:\n",
    "            u = np.random.uniform(0.0, 1.0)\n",
    "            if (u < np.exp(proposed_likelihood-current_likelihood)):\n",
    "                current_point = proposed_point\n",
    "                current_likelihood = proposed_likelihood\n",
    "        \n",
    "        points.append(current_point)\n",
    "    \n",
    "    return points"
   ]
  },
  {
   "cell_type": "code",
   "execution_count": 34,
   "metadata": {
    "ExecuteTime": {
     "end_time": "2022-01-10T18:06:25.203540Z",
     "start_time": "2022-01-10T18:06:25.017655Z"
    }
   },
   "outputs": [],
   "source": [
    "p = metropolis_hastings(10000, 1., 10.)"
   ]
  },
  {
   "cell_type": "code",
   "execution_count": 39,
   "metadata": {
    "ExecuteTime": {
     "end_time": "2022-01-10T18:07:12.827056Z",
     "start_time": "2022-01-10T18:07:12.512578Z"
    },
    "scrolled": true
   },
   "outputs": [
    {
     "data": {
      "image/png": "[encoded data removed]",
      "text/plain": [
       "<Figure size 432x288 with 1 Axes>"
      ]
     },
     "metadata": {
      "needs_background": "light"
     },
     "output_type": "display_data"
    }
   ],
   "source": [
    "counts, steps, _ = plt.hist(p, bins=40);\n",
    "plt.grid(linestyle='--')"
   ]
  },
  {
   "cell_type": "code",
   "execution_count": 41,
   "metadata": {
    "ExecuteTime": {
     "end_time": "2022-01-10T18:07:36.009579Z",
     "start_time": "2022-01-10T18:07:35.994075Z"
    }
   },
   "outputs": [
    {
     "data": {
      "text/plain": [
       "10.090362884659127"
      ]
     },
     "execution_count": 41,
     "metadata": {},
     "output_type": "execute_result"
    }
   ],
   "source": [
    "np.mean(p)"
   ]
  },
  {
   "cell_type": "code",
   "execution_count": 40,
   "metadata": {
    "ExecuteTime": {
     "end_time": "2022-01-10T18:07:25.852667Z",
     "start_time": "2022-01-10T18:07:25.841796Z"
    }
   },
   "outputs": [
    {
     "data": {
      "text/plain": [
       "0.5601029247786627"
      ]
     },
     "execution_count": 40,
     "metadata": {},
     "output_type": "execute_result"
    }
   ],
   "source": [
    "normal_stddev(steps[:-1], counts/np.sum(counts))"
   ]
  }
 ],
 "metadata": {
  "kernelspec": {
   "display_name": "Astronomy (Python 3.8)",
   "language": "python",
   "name": "astronomy"
  },
  "language_info": {
   "codemirror_mode": {
    "name": "ipython",
    "version": 3
   },
   "file_extension": ".py",
   "mimetype": "text/x-python",
   "name": "python",
   "nbconvert_exporter": "python",
   "pygments_lexer": "ipython3",
   "version": "3.8.6"
  },
  "toc": {
   "base_numbering": 1,
   "nav_menu": {},
   "number_sections": true,
   "sideBar": true,
   "skip_h1_title": false,
   "title_cell": "Table of Contents",
   "title_sidebar": "Contents",
   "toc_cell": false,
   "toc_position": {},
   "toc_section_display": true,
   "toc_window_display": false
  },
  "varInspector": {
   "cols": {
    "lenName": 16,
    "lenType": 16,
    "lenVar": 40
   },
   "kernels_config": {
    "python": {
     "delete_cmd_postfix": "",
     "delete_cmd_prefix": "del ",
     "library": "var_list.py",
     "varRefreshCmd": "print(var_dic_list())"
    },
    "r": {
     "delete_cmd_postfix": ") ",
     "delete_cmd_prefix": "rm(",
     "library": "var_list.r",
     "varRefreshCmd": "cat(var_dic_list()) "
    }
   },
   "types_to_exclude": [
    "module",
    "function",
    "builtin_function_or_method",
    "instance",
    "_Feature"
   ],
   "window_display": false
  }
 },
 "nbformat": 4,
 "nbformat_minor": 4
}
